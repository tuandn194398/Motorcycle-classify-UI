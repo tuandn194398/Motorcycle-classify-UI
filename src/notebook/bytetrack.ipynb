{
 "cells": [
  {
   "cell_type": "code",
   "execution_count": 8,
   "metadata": {},
   "outputs": [],
   "source": [
    "import os\n",
    "import sys\n",
    "\n",
    "sys.path.append(os.getcwd())\n",
    "\n",
    "import numpy as np\n",
    "\n",
    "\n",
    "class KalmanFilter:\n",
    "    def __init__(self, \n",
    "                 initial_x: float, \n",
    "                 initial_v: float,\n",
    "                 accel_variance: float) -> None:\n",
    "                \n",
    "        # Mean of the state GRV (Gaussian Random Variable)\n",
    "        self._x = np.array([initial_x, initial_v])\n",
    "        self._accel_variance = accel_variance\n",
    "\n",
    "        # Covariance of the state GRV (Gaussian Random Variable)\n",
    "        self._P = np.eye(2)\n",
    "    \n",
    "    @property\n",
    "    def pos(self) -> float:\n",
    "        return self._x[0]\n",
    "    \n",
    "    @property\n",
    "    def vel(self) -> float:\n",
    "        return self._x[1]\n",
    "    \n",
    "    @property\n",
    "    def cov(self) -> np.ndarray:\n",
    "        return self._P\n",
    "\n",
    "    @property\n",
    "    def mean(self) -> np.ndarray:\n",
    "        return self._x\n",
    "    \n",
    "    def predict(self, dt: float) -> None:\n",
    "        # dt here is the time step\n",
    "        # x = F x\n",
    "        # P = F P F^T + Q (Q = G G^T * accel_variance)\n",
    "        F = np.array([[1, dt], [0, 1]])\n",
    "        G = np.array([0.5 * dt ** 2, dt]).reshape((2,1))\n",
    "        \n",
    "        new_x = F.dot(self._x)\n",
    "        new_P = F.dot(self._P).dot(F.T) + G.dot(G.T) * self._accel_variance\n",
    "        \n",
    "        self._x = new_x\n",
    "        self._P = new_P\n",
    "    \n",
    "    def update(self, mess_value: float, mess_variance: float):\n",
    "        # y = z - H x\n",
    "        # S = H P H^T + R\n",
    "        # K = P H^T S^-1\n",
    "        # x = x + K y\n",
    "        # P = (I - K H) P\n",
    "        \n",
    "        H = np.array([1, 0]).reshape((1, 2))\n",
    "        z = np.array([mess_value])\n",
    "        R = np.array([mess_variance])\n",
    "        \n",
    "        y = z - H.dot(self._x)\n",
    "        S = H.dot(self._P).dot(H.T) + R\n",
    "        K = self._P.dot(H.T).dot(np.linalg.inv(S))\n",
    "        \n",
    "        new_x = self._x + K.dot(y)\n",
    "        new_P = (np.eye(2) - K.dot(H)).dot(self._P)\n",
    "        \n",
    "        self._x = new_x\n",
    "        self._P = new_P"
   ]
  },
  {
   "cell_type": "code",
   "execution_count": 10,
   "metadata": {},
   "outputs": [],
   "source": [
    "kf = KalmanFilter(\n",
    "    initial_x=0.2,\n",
    "    initial_v=0.5,\n",
    "    accel_variance=1.2\n",
    ")"
   ]
  },
  {
   "cell_type": "code",
   "execution_count": 11,
   "metadata": {},
   "outputs": [],
   "source": [
    "kf.predict(dt=0.1)"
   ]
  },
  {
   "cell_type": "code",
   "execution_count": 15,
   "metadata": {},
   "outputs": [
    {
     "data": {
      "text/plain": [
       "0.3"
      ]
     },
     "execution_count": 15,
     "metadata": {},
     "output_type": "execute_result"
    }
   ],
   "source": [
    "kf.pos"
   ]
  }
 ],
 "metadata": {
  "kernelspec": {
   "display_name": "motor",
   "language": "python",
   "name": "python3"
  },
  "language_info": {
   "codemirror_mode": {
    "name": "ipython",
    "version": 3
   },
   "file_extension": ".py",
   "mimetype": "text/x-python",
   "name": "python",
   "nbconvert_exporter": "python",
   "pygments_lexer": "ipython3",
   "version": "3.10.14"
  }
 },
 "nbformat": 4,
 "nbformat_minor": 2
}
