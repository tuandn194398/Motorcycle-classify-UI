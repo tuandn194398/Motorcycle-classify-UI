{
 "cells": [
  {
   "cell_type": "markdown",
   "metadata": {},
   "source": [
    "This notebook is for benchmark video spliting into frames\n",
    "\n",
    "Using the following libraries:\n",
    "- OpenCV\n",
    "- FFmpeg\n",
    "- Imageio"
   ]
  },
  {
   "cell_type": "code",
   "execution_count": 8,
   "metadata": {},
   "outputs": [],
   "source": [
    "# A wrapper function to count the time taken by a function to execute\n",
    "import time\n",
    "\n",
    "def time_it(func):\n",
    "    def wrapper(*args, **kwargs):\n",
    "        start = time.time()\n",
    "        result = func(*args, **kwargs)\n",
    "        end = time.time()\n",
    "        print(func.__name__ + \" took \" + str((end-start)) + \"sec\")\n",
    "        return result\n",
    "    return wrapper"
   ]
  },
  {
   "cell_type": "code",
   "execution_count": 2,
   "metadata": {},
   "outputs": [
    {
     "name": "stdout",
     "output_type": "stream",
     "text": [
      "In test function\n",
      "test took 5008.705615997314 mil sec\n"
     ]
    }
   ],
   "source": [
    "def test():\n",
    "    print(\"In test function\")\n",
    "    time.sleep(5)\n",
    "\n",
    "test = time_it(test)\n",
    "test()"
   ]
  },
  {
   "cell_type": "code",
   "execution_count": 4,
   "metadata": {},
   "outputs": [],
   "source": [
    "import os\n",
    "\n",
    "video_path = \"../../assets/5min.mp4\"\n",
    "output_path = \"../../assets/output\"\n",
    "\n",
    "for i in [\"cv2\", \"ffmpeg\", \"imageio\"]:\n",
    "    os.makedirs(os.path.join(output_path, i), exist_ok=True)"
   ]
  },
  {
   "cell_type": "code",
   "execution_count": 5,
   "metadata": {},
   "outputs": [],
   "source": [
    "import cv2\n",
    "\n",
    "@time_it\n",
    "def extract_frames_cv2(video_path, output_path):\n",
    "    vidcap = cv2.VideoCapture(video_path)\n",
    "    success, image = vidcap.read()\n",
    "    count = 0\n",
    "    while success:\n",
    "        cv2.imwrite(os.path.join(output_path, \"cv2\", \"frame%d.jpg\" % count), image)\n",
    "        success, image = vidcap.read()\n",
    "        count += 1"
   ]
  },
  {
   "cell_type": "code",
   "execution_count": 6,
   "metadata": {},
   "outputs": [],
   "source": [
    "import imageio\n",
    "\n",
    "@time_it\n",
    "def extract_frames_imageio(video_path, output_path):\n",
    "    vid = imageio.get_reader(video_path, 'ffmpeg')\n",
    "    for i, image in enumerate(vid):\n",
    "        imageio.imwrite(os.path.join(output_path, \"imageio\", \"frame%d.jpg\" % i), image)"
   ]
  },
  {
   "cell_type": "code",
   "execution_count": 10,
   "metadata": {},
   "outputs": [
    {
     "name": "stdout",
     "output_type": "stream",
     "text": [
      "extract_frames_cv2 took 154776.70764923096 mil sec\n"
     ]
    }
   ],
   "source": [
    "# Benchmarking\n",
    "extract_frames_cv2(video_path, output_path)"
   ]
  },
  {
   "cell_type": "code",
   "execution_count": 9,
   "metadata": {},
   "outputs": [
    {
     "name": "stdout",
     "output_type": "stream",
     "text": [
      "extract_frames_imageio took 103585.85667610168 mil sec\n"
     ]
    }
   ],
   "source": [
    "extract_frames_imageio(video_path, output_path)"
   ]
  },
  {
   "cell_type": "code",
   "execution_count": 11,
   "metadata": {},
   "outputs": [],
   "source": [
    "import ffmpeg\n",
    "\n",
    "@time_it\n",
    "def extract_frames_ffmpeg(video_path, output_path):\n",
    "    ffmpeg.input(video_path).output(os.path.join(output_path, \"ffmpeg\", \"frame%d.jpg\")).run()"
   ]
  }
 ],
 "metadata": {
  "kernelspec": {
   "display_name": "motor",
   "language": "python",
   "name": "python3"
  },
  "language_info": {
   "codemirror_mode": {
    "name": "ipython",
    "version": 3
   },
   "file_extension": ".py",
   "mimetype": "text/x-python",
   "name": "python",
   "nbconvert_exporter": "python",
   "pygments_lexer": "ipython3",
   "version": "3.10.14"
  }
 },
 "nbformat": 4,
 "nbformat_minor": 2
}
