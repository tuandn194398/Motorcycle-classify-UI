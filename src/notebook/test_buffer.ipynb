{
 "cells": [
  {
   "cell_type": "markdown",
   "metadata": {},
   "source": [
    "In this notebook, I want to try to code a buffers, which will have two process\n",
    "run separately. The first process will be the splitter, spliting video into frames in one folder. \n",
    "\n",
    "The next process will be the classifier, which will take the frames and classify them into the correct class."
   ]
  },
  {
   "cell_type": "code",
   "execution_count": 1,
   "metadata": {},
   "outputs": [
    {
     "name": "stderr",
     "output_type": "stream",
     "text": [
      "9103it [01:40, 90.86it/s]\n"
     ]
    }
   ],
   "source": [
    "import imageio\n",
    "import tqdm\n",
    "\n",
    "def split_image():\n",
    "    video_path = r\"C:\\Users\\ADMIN\\workspace\\GitHub\\BKAI-Demo-Motorbike-PyQT\\assets\\5min.mp4\"\n",
    "    \n",
    "    vid = imageio.get_reader(video_path, 'ffmpeg')\n",
    "    \n",
    "    for i, img in enumerate(tqdm.tqdm(vid.iter_data(), total=vid.get_meta_data()['nframes'])):\n",
    "        imageio.imwrite(f\"imageio/image_{i}.jpg\", img)\n",
    "    \n",
    "split_image()"
   ]
  }
 ],
 "metadata": {
  "kernelspec": {
   "display_name": "motor",
   "language": "python",
   "name": "python3"
  },
  "language_info": {
   "codemirror_mode": {
    "name": "ipython",
    "version": 3
   },
   "file_extension": ".py",
   "mimetype": "text/x-python",
   "name": "python",
   "nbconvert_exporter": "python",
   "pygments_lexer": "ipython3",
   "version": "3.10.14"
  }
 },
 "nbformat": 4,
 "nbformat_minor": 2
}
